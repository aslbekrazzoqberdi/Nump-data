{
  "nbformat": 4,
  "nbformat_minor": 0,
  "metadata": {
    "colab": {
      "provenance": [],
      "authorship_tag": "ABX9TyO70Wp5PdQszjpONS/Wc3Zx",
      "include_colab_link": true
    },
    "kernelspec": {
      "name": "python3",
      "display_name": "Python 3"
    },
    "language_info": {
      "name": "python"
    }
  },
  "cells": [
    {
      "cell_type": "markdown",
      "metadata": {
        "id": "view-in-github",
        "colab_type": "text"
      },
      "source": [
        "<a href=\"https://colab.research.google.com/github/aslbekrazzoqberdi/Nump-data/blob/main/19_Numpy_Searching_Arrays.ipynb\" target=\"_parent\"><img src=\"https://colab.research.google.com/assets/colab-badge.svg\" alt=\"Open In Colab\"/></a>"
      ]
    },
    {
      "cell_type": "code",
      "execution_count": null,
      "metadata": {
        "id": "z1XfMwvyXYe_"
      },
      "outputs": [],
      "source": [
        "import numpy as np"
      ]
    },
    {
      "cell_type": "code",
      "source": [
        "arr = np.array([1,7,6,9,3,4,6,7,10,12,7,5,6,])"
      ],
      "metadata": {
        "id": "aJyg8A_9XiJB"
      },
      "execution_count": null,
      "outputs": []
    },
    {
      "cell_type": "code",
      "source": [
        "x = np.where(arr==7)\n",
        "\n",
        "\n",
        "print(x)\n"
      ],
      "metadata": {
        "colab": {
          "base_uri": "https://localhost:8080/"
        },
        "id": "pGsy6FoNYFmd",
        "outputId": "a311174e-dd32-4f62-e896-a0b3b5db608b"
      },
      "execution_count": null,
      "outputs": [
        {
          "output_type": "stream",
          "name": "stdout",
          "text": [
            "(array([ 1,  7, 10]),)\n"
          ]
        }
      ]
    },
    {
      "cell_type": "markdown",
      "source": [
        "### BIZ LISTDAN SEARCHB QILAMZ VA XOXLAGAN ELEMENTNI  KIRITAMZ NATIJADA INDEX KORSATKICHINI KELTIRIB CHIQARADI"
      ],
      "metadata": {
        "id": "vgGZj4JfYUF1"
      }
    },
    {
      "cell_type": "code",
      "source": [
        "\n",
        "\n",
        "\n",
        "\n",
        "\n",
        "\n",
        "\n"
      ],
      "metadata": {
        "id": "Rs7J2K7AYlUy"
      },
      "execution_count": null,
      "outputs": []
    },
    {
      "cell_type": "code",
      "source": [],
      "metadata": {
        "id": "d5MCtRl4Za-z"
      },
      "execution_count": null,
      "outputs": []
    },
    {
      "cell_type": "markdown",
      "source": [
        " ### LIST ICHIDAN FAQAT JUFT ELEMENTLARNI IZLAYMIZ"
      ],
      "metadata": {
        "id": "hew1OwkeZcYr"
      }
    },
    {
      "cell_type": "code",
      "source": [
        "arr"
      ],
      "metadata": {
        "colab": {
          "base_uri": "https://localhost:8080/"
        },
        "id": "-wBRwA_CZiBt",
        "outputId": "a16c64ba-045a-4734-c061-f23a56dab291"
      },
      "execution_count": null,
      "outputs": [
        {
          "output_type": "execute_result",
          "data": {
            "text/plain": [
              "array([ 1,  7,  6,  9,  3,  4,  6,  7, 10, 12,  7,  5,  6])"
            ]
          },
          "metadata": {},
          "execution_count": 4
        }
      ]
    },
    {
      "cell_type": "code",
      "source": [
        "x = np.where(arr%2 == 0)\n",
        "print(x)"
      ],
      "metadata": {
        "colab": {
          "base_uri": "https://localhost:8080/"
        },
        "id": "qtgw4pHZZi-r",
        "outputId": "c66caae0-550a-48e7-ba6f-2f3ef33cc8d2"
      },
      "execution_count": null,
      "outputs": [
        {
          "output_type": "stream",
          "name": "stdout",
          "text": [
            "(array([ 2,  5,  6,  8,  9, 12]),)\n"
          ]
        }
      ]
    },
    {
      "cell_type": "markdown",
      "source": [],
      "metadata": {
        "id": "FRHpQOCSkA9I"
      }
    },
    {
      "cell_type": "markdown",
      "source": [
        "### LIST ICHIDAN FAQAT TOQ SONLARNI IZLAYMZ"
      ],
      "metadata": {
        "id": "vWxqMMh3kKfa"
      }
    },
    {
      "cell_type": "code",
      "source": [
        "arr"
      ],
      "metadata": {
        "colab": {
          "base_uri": "https://localhost:8080/"
        },
        "id": "dbzm41n6kPu8",
        "outputId": "3e3fd74b-33c4-4a6d-eaa3-7eaf2a518dff"
      },
      "execution_count": null,
      "outputs": [
        {
          "output_type": "execute_result",
          "data": {
            "text/plain": [
              "array([ 1,  7,  6,  9,  3,  4,  6,  7, 10, 12,  7,  5,  6])"
            ]
          },
          "metadata": {},
          "execution_count": 6
        }
      ]
    },
    {
      "cell_type": "code",
      "source": [
        "x = np.where(arr%2 != 0)\n",
        "print(x)"
      ],
      "metadata": {
        "colab": {
          "base_uri": "https://localhost:8080/"
        },
        "id": "ZLVwB0a1kQhC",
        "outputId": "3d0c395f-9c6e-4dbd-9fc3-59d3e80c49e4"
      },
      "execution_count": null,
      "outputs": [
        {
          "output_type": "stream",
          "name": "stdout",
          "text": [
            "(array([ 0,  1,  3,  4,  7, 10, 11]),)\n"
          ]
        }
      ]
    }
  ]
}