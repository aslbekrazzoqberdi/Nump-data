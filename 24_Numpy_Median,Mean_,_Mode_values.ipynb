{
  "nbformat": 4,
  "nbformat_minor": 0,
  "metadata": {
    "colab": {
      "provenance": [],
      "authorship_tag": "ABX9TyMSC12BP7xv7YXFpIragix0",
      "include_colab_link": true
    },
    "kernelspec": {
      "name": "python3",
      "display_name": "Python 3"
    },
    "language_info": {
      "name": "python"
    }
  },
  "cells": [
    {
      "cell_type": "markdown",
      "metadata": {
        "id": "view-in-github",
        "colab_type": "text"
      },
      "source": [
        "<a href=\"https://colab.research.google.com/github/aslbekrazzoqberdi/Nump-data/blob/main/24_Numpy_Median%2CMean_%2C_Mode_values.ipynb\" target=\"_parent\"><img src=\"https://colab.research.google.com/assets/colab-badge.svg\" alt=\"Open In Colab\"/></a>"
      ]
    },
    {
      "cell_type": "code",
      "execution_count": null,
      "metadata": {
        "id": "Yc8F9aG4Ovpy"
      },
      "outputs": [],
      "source": [
        "import numpy as np"
      ]
    },
    {
      "cell_type": "markdown",
      "source": [
        "### MEAN() OF ARR"
      ],
      "metadata": {
        "id": "YHim0tXmPUuj"
      }
    },
    {
      "cell_type": "code",
      "source": [
        "arr = np.array([1,3,6,5,2,8,12,5,4])\n",
        "\n",
        "x = np.mean(arr)"
      ],
      "metadata": {
        "id": "1deSb5tiPG0S"
      },
      "execution_count": null,
      "outputs": []
    },
    {
      "cell_type": "code",
      "source": [
        "print(x)"
      ],
      "metadata": {
        "colab": {
          "base_uri": "https://localhost:8080/"
        },
        "id": "Cgga5wo5PtCg",
        "outputId": "07d345d0-2837-48b2-bde9-5cd97a44b7a8"
      },
      "execution_count": null,
      "outputs": [
        {
          "output_type": "stream",
          "name": "stdout",
          "text": [
            "5.111111111111111\n"
          ]
        }
      ]
    },
    {
      "cell_type": "code",
      "source": [
        "np.sort(arr)"
      ],
      "metadata": {
        "colab": {
          "base_uri": "https://localhost:8080/"
        },
        "id": "iDer80F1PyVG",
        "outputId": "5028a14e-ab04-4681-af0b-cad1bb106b71"
      },
      "execution_count": null,
      "outputs": [
        {
          "output_type": "execute_result",
          "data": {
            "text/plain": [
              "array([ 1,  2,  3,  4,  5,  5,  6,  8, 12])"
            ]
          },
          "metadata": {},
          "execution_count": 7
        }
      ]
    },
    {
      "cell_type": "markdown",
      "source": [
        "###  MEDIAN() FUNCTION OF ARR"
      ],
      "metadata": {
        "id": "v-mjI7AAQMRI"
      }
    },
    {
      "cell_type": "code",
      "source": [
        "y = np.median(arr)"
      ],
      "metadata": {
        "id": "_WZiu-0aQRLk"
      },
      "execution_count": null,
      "outputs": []
    },
    {
      "cell_type": "code",
      "source": [
        "print(y)"
      ],
      "metadata": {
        "colab": {
          "base_uri": "https://localhost:8080/"
        },
        "id": "PDDltVWZQX5K",
        "outputId": "b45b7854-b698-4dba-d9bd-2c71cbc1d868"
      },
      "execution_count": null,
      "outputs": [
        {
          "output_type": "stream",
          "name": "stdout",
          "text": [
            "5.0\n"
          ]
        }
      ]
    },
    {
      "cell_type": "markdown",
      "source": [
        "### MODE() FUNCTION"
      ],
      "metadata": {
        "id": "SxMI_7xOQjOi"
      }
    },
    {
      "cell_type": "code",
      "source": [
        "print(np.sort(arr))"
      ],
      "metadata": {
        "colab": {
          "base_uri": "https://localhost:8080/"
        },
        "id": "O0afDzJFQm05",
        "outputId": "07f55ad1-417e-44e9-b19e-3e2bcd5c8e77"
      },
      "execution_count": null,
      "outputs": [
        {
          "output_type": "stream",
          "name": "stdout",
          "text": [
            "[ 1  2  3  4  5  5  6  8 12]\n"
          ]
        }
      ]
    },
    {
      "cell_type": "code",
      "source": [],
      "metadata": {
        "id": "uTY4cDh-QuF4"
      },
      "execution_count": null,
      "outputs": []
    },
    {
      "cell_type": "markdown",
      "source": [
        "### WE SHOULD IMPORT STATS FROM SCIPY LIBRARY"
      ],
      "metadata": {
        "id": "rjBZ6kZDRlSY"
      }
    },
    {
      "cell_type": "code",
      "source": [
        "from scipy import stats"
      ],
      "metadata": {
        "id": "hiLKXmrqRsGu"
      },
      "execution_count": null,
      "outputs": []
    },
    {
      "cell_type": "code",
      "source": [
        "z = stats.mode(arr)"
      ],
      "metadata": {
        "id": "2B6fm9XNRyVt"
      },
      "execution_count": null,
      "outputs": []
    },
    {
      "cell_type": "code",
      "source": [
        "print(z)"
      ],
      "metadata": {
        "colab": {
          "base_uri": "https://localhost:8080/"
        },
        "id": "BmT6D0h2R4bk",
        "outputId": "d4669f53-987c-4ec3-aba1-c2994256d748"
      },
      "execution_count": null,
      "outputs": [
        {
          "output_type": "stream",
          "name": "stdout",
          "text": [
            "ModeResult(mode=5, count=2)\n"
          ]
        }
      ]
    },
    {
      "cell_type": "markdown",
      "source": [
        "### STATNDARD DEVIATION"
      ],
      "metadata": {
        "id": "Y4s4UDqiSLAw"
      }
    },
    {
      "cell_type": "code",
      "source": [
        "k = np.std(arr)"
      ],
      "metadata": {
        "id": "ImtcTNrxSOlU"
      },
      "execution_count": null,
      "outputs": []
    },
    {
      "cell_type": "code",
      "source": [
        "print(k)"
      ],
      "metadata": {
        "id": "aru8f3KjSW6w",
        "outputId": "178a53c7-9533-43a9-f589-ca9419a1ba2c",
        "colab": {
          "base_uri": "https://localhost:8080/"
        }
      },
      "execution_count": null,
      "outputs": [
        {
          "output_type": "stream",
          "name": "stdout",
          "text": [
            "3.1426968052735447\n"
          ]
        }
      ]
    }
  ]
}