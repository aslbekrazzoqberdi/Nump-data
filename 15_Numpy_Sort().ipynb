{
  "nbformat": 4,
  "nbformat_minor": 0,
  "metadata": {
    "colab": {
      "provenance": [],
      "authorship_tag": "ABX9TyNJRg8KYZIjrQW1rbGHyGLx",
      "include_colab_link": true
    },
    "kernelspec": {
      "name": "python3",
      "display_name": "Python 3"
    },
    "language_info": {
      "name": "python"
    }
  },
  "cells": [
    {
      "cell_type": "markdown",
      "metadata": {
        "id": "view-in-github",
        "colab_type": "text"
      },
      "source": [
        "<a href=\"https://colab.research.google.com/github/aslbekrazzoqberdi/Nump-data/blob/main/15_Numpy_Sort().ipynb\" target=\"_parent\"><img src=\"https://colab.research.google.com/assets/colab-badge.svg\" alt=\"Open In Colab\"/></a>"
      ]
    },
    {
      "cell_type": "code",
      "execution_count": null,
      "metadata": {
        "id": "pzXd2D2EiQ9Q"
      },
      "outputs": [],
      "source": [
        "import numpy   as np"
      ]
    },
    {
      "cell_type": "code",
      "source": [
        "arr = np.array(['apple', 'lemon', 'banana', 'apricot', 'cherry'])"
      ],
      "metadata": {
        "id": "3iz4oYX8icvk"
      },
      "execution_count": null,
      "outputs": []
    },
    {
      "cell_type": "code",
      "source": [
        "new_arr = np.sort(arr)\n",
        "print(new_arr)"
      ],
      "metadata": {
        "colab": {
          "base_uri": "https://localhost:8080/"
        },
        "id": "g_Oc-vA1isse",
        "outputId": "5b6f6f1e-867e-46df-880b-cc621a8a2654"
      },
      "execution_count": null,
      "outputs": [
        {
          "output_type": "stream",
          "name": "stdout",
          "text": [
            "['apple' 'apricot' 'banana' 'cherry' 'lemon']\n"
          ]
        }
      ]
    },
    {
      "cell_type": "markdown",
      "source": [
        "#### LETS MOVE ON  2D ARRAY SORTING"
      ],
      "metadata": {
        "id": "zaEBQ3uujwGU"
      }
    },
    {
      "cell_type": "code",
      "source": [
        "arr2 = np.array([[10,6,45,12],[25,1,20,89]])\n",
        "print(arr2)"
      ],
      "metadata": {
        "colab": {
          "base_uri": "https://localhost:8080/"
        },
        "id": "g92jyINNj0sO",
        "outputId": "6c69af1f-754c-4298-809d-280cfbdf3c1d"
      },
      "execution_count": null,
      "outputs": [
        {
          "output_type": "stream",
          "name": "stdout",
          "text": [
            "[[10  6 45 12]\n",
            " [25  1 20 89]]\n"
          ]
        }
      ]
    },
    {
      "cell_type": "code",
      "source": [
        "print(np.sort(arr2))"
      ],
      "metadata": {
        "colab": {
          "base_uri": "https://localhost:8080/"
        },
        "id": "egynHIHHkHMi",
        "outputId": "dea6681b-3c37-4c7b-9203-6941686d043d"
      },
      "execution_count": null,
      "outputs": [
        {
          "output_type": "stream",
          "name": "stdout",
          "text": [
            "[[ 6 10 12 45]\n",
            " [ 1 20 25 89]]\n"
          ]
        }
      ]
    }
  ]
}